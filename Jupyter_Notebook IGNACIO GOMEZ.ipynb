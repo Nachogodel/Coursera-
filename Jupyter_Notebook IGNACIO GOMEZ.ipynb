{
 "cells": [
  {
   "cell_type": "markdown",
   "metadata": {},
   "source": [
    "<center>\n",
    "    <img src=\"https://cf-courses-data.s3.us.cloud-object-storage.appdomain.cloud/IBMDeveloperSkillsNetwork-DS0105EN-SkillsNetwork/labs/Module2/images/SN_web_lightmode.png\" width=\"300\" alt=\"cognitiveclass.ai logo\">\n",
    "</center>\n"
   ]
  },
  {
   "cell_type": "code",
   "execution_count": null,
   "metadata": {},
   "outputs": [],
   "source": []
  },
  {
   "cell_type": "markdown",
   "metadata": {},
   "source": [
    "#### Add your code below following the instructions given in the course\n"
   ]
  },
  {
   "cell_type": "code",
   "execution_count": 4,
   "metadata": {},
   "outputs": [],
   "source": [
    "# Proyecto Final: Introducción a la Ciencia de Datos\n"
   ]
  },
  {
   "cell_type": "markdown",
   "metadata": {},
   "source": [
    "## Introducción\n",
    "Este cuaderno es una introducción básica a las herramientas y conceptos clave de la ciencia de datos, como el uso de lenguajes, bibliotecas y herramientas esenciales.\n"
   ]
  },
  {
   "cell_type": "markdown",
   "metadata": {},
   "source": [
    "## Lenguajes de la Ciencia de Datos\n",
    "- Python\n",
    "- R\n",
    "- SQL\n",
    "- Julia\n"
   ]
  },
  {
   "cell_type": "markdown",
   "metadata": {},
   "source": [
    "## Bibliotecas Populares en Ciencia de Datos  \n",
    "Algunas bibliotecas clave en ciencia de datos incluyen:  \n",
    "- **Python:** NumPy, Pandas, Matplotlib, Scikit-learn, TensorFlow  \n",
    "- **R:** ggplot2, dplyr, caret  \n",
    "- **SQL:** SQLite, PostgreSQL  \n"
   ]
  },
  {
   "cell_type": "markdown",
   "metadata": {},
   "source": [
    "## Herramientas de Ciencia de Datos  \n",
    "\n",
    "| Herramienta       | Descripción |\n",
    "|-------------------|------------|\n",
    "| Jupyter Notebook | Entorno interactivo para escribir y ejecutar código |\n",
    "| RStudio          | Entorno de desarrollo para R |\n",
    "| Apache Spark     | Motor de análisis de datos a gran escala |\n",
    "| TensorFlow       | Biblioteca para aprendizaje automático |\n",
    "| Power BI         | Herramienta de visualización de datos |\n"
   ]
  },
  {
   "cell_type": "markdown",
   "metadata": {},
   "source": [
    "## Ejemplos de Expresiones Aritméticas  \n",
    "Algunas operaciones matemáticas en Python:  \n",
    "- **Suma:** `3 + 5 = 8`  \n",
    "- **Resta:** `10 - 4 = 6`  \n",
    "- **Multiplicación:** `6 * 7 = 42`  \n",
    "- **División:** `20 / 4 = 5.0`  \n",
    "- **Potencia:** `2 ** 3 = 8`  \n",
    "\n"
   ]
  },
  {
   "cell_type": "code",
   "execution_count": 5,
   "metadata": {},
   "outputs": [
    {
     "name": "stdout",
     "output_type": "stream",
     "text": [
      "El resultado de (5 * 3) + 10 es: 25\n"
     ]
    }
   ],
   "source": [
    "# Multiplicar y sumar números\n",
    "resultado = (5 * 3) + 10\n",
    "print(\"El resultado de (5 * 3) + 10 es:\", resultado)\n",
    "\n"
   ]
  },
  {
   "cell_type": "code",
   "execution_count": 6,
   "metadata": {},
   "outputs": [
    {
     "name": "stdout",
     "output_type": "stream",
     "text": [
      "120 minutos equivalen a 2.0 horas\n"
     ]
    }
   ],
   "source": [
    "# Convertir minutos a horas\n",
    "minutos = 120\n",
    "horas = minutos / 60\n",
    "print(minutos, \"minutos equivalen a\", horas, \"horas\")\n"
   ]
  },
  {
   "cell_type": "code",
   "execution_count": 7,
   "metadata": {},
   "outputs": [
    {
     "name": "stdout",
     "output_type": "stream",
     "text": [
      "1. Aprender sobre lenguajes de ciencia de datos\n",
      "2. Familiarizarse con bibliotecas clave\n",
      "3. Explorar herramientas utilizadas en ciencia de datos\n",
      "4. Realizar operaciones matemáticas en Python\n"
     ]
    }
   ],
   "source": [
    "# Lista de objetivos\n",
    "objetivos = [\n",
    "    \"Aprender sobre lenguajes de ciencia de datos\",\n",
    "    \"Familiarizarse con bibliotecas clave\",\n",
    "    \"Explorar herramientas utilizadas en ciencia de datos\",\n",
    "    \"Realizar operaciones matemáticas en Python\"\n",
    "]\n",
    "for i, objetivo in enumerate(objetivos, 1):\n",
    "    print(f\"{i}. {objetivo}\")\n"
   ]
  },
  {
   "cell_type": "markdown",
   "metadata": {},
   "source": [
    "## Autor\n",
    "Este cuaderno fue creado por Ignacio Gomez \n"
   ]
  },
  {
   "cell_type": "code",
   "execution_count": null,
   "metadata": {},
   "outputs": [],
   "source": []
  },
  {
   "cell_type": "code",
   "execution_count": null,
   "metadata": {},
   "outputs": [],
   "source": []
  },
  {
   "cell_type": "code",
   "execution_count": null,
   "metadata": {},
   "outputs": [],
   "source": []
  },
  {
   "cell_type": "code",
   "execution_count": null,
   "metadata": {},
   "outputs": [],
   "source": []
  },
  {
   "cell_type": "code",
   "execution_count": null,
   "metadata": {},
   "outputs": [],
   "source": []
  },
  {
   "cell_type": "code",
   "execution_count": null,
   "metadata": {},
   "outputs": [],
   "source": []
  }
 ],
 "metadata": {
  "kernelspec": {
   "display_name": "Python 3 (ipykernel)",
   "language": "python",
   "name": "python3"
  },
  "language_info": {
   "codemirror_mode": {
    "name": "ipython",
    "version": 3
   },
   "file_extension": ".py",
   "mimetype": "text/x-python",
   "name": "python",
   "nbconvert_exporter": "python",
   "pygments_lexer": "ipython3",
   "version": "3.12.8"
  }
 },
 "nbformat": 4,
 "nbformat_minor": 4
}
